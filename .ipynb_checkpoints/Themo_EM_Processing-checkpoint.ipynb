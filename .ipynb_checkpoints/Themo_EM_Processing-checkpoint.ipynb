{
 "cells": [
  {
   "cell_type": "code",
   "execution_count": 2,
   "metadata": {},
   "outputs": [],
   "source": [
    "import argparse\n",
    "import pandas as pd\n",
    "import matplotlib.pyplot as plt\n",
    "import seaborn; seaborn.set()\n",
    "from datetime import datetime\n",
    "from dateutil import parser"
   ]
  },
  {
   "cell_type": "code",
   "execution_count": 3,
   "metadata": {},
   "outputs": [
    {
     "name": "stderr",
     "output_type": "stream",
     "text": [
      "//anaconda3/lib/python3.7/site-packages/IPython/core/interactiveshell.py:3325: UserWarning: Discarding nonzero nanoseconds in conversion\n",
      "  exec(code_obj, self.user_global_ns, self.user_ns)\n",
      "usage: ipykernel_launcher.py [-h] [--start-date START_DATE]\n",
      "                             [--end-date END_DATE] [--SST] [--fluorescence]\n",
      "                             [--air-temp] [--windspeed] [--wind-direction]\n",
      "                             [--pressure] [--humidity] [--dewpoint]\n",
      "                             file\n",
      "ipykernel_launcher.py: error: unrecognized arguments: -f\n"
     ]
    },
    {
     "ename": "SystemExit",
     "evalue": "2",
     "output_type": "error",
     "traceback": [
      "An exception has occurred, use %tb to see the full traceback.\n",
      "\u001b[0;31mSystemExit\u001b[0m\u001b[0;31m:\u001b[0m 2\n"
     ]
    },
    {
     "name": "stderr",
     "output_type": "stream",
     "text": [
      "//anaconda3/lib/python3.7/site-packages/IPython/core/interactiveshell.py:3333: UserWarning: To exit: use 'exit', 'quit', or Ctrl-D.\n",
      "  warn(\"To exit: use 'exit', 'quit', or Ctrl-D.\", stacklevel=1)\n"
     ]
    }
   ],
   "source": [
    "parser = argparse.ArgumentParser(description='This program creates time series of several sensors on the moored THEMO buoy.', \n",
    "                                 epilog='Regina Lionheart, CROSSMAR Lab, University of Haifa')\n",
    "parser.add_argument('file', help='concatenated dataset of all THEMO sensor data')\n",
    "parser.add_argument('--start-date', help=\"the start date - 'format YYYY-MM-DD'\", \n",
    "                    type=lambda d: datetime.strptime(d, '%Y-%m-%d'),\n",
    "                    default=pd.Timestamp.min.to_pydatetime())\n",
    "\n",
    "parser.add_argument('--end-date', help =\"the end date - 'format YYYY-MM-DD'\",\n",
    "                    type=lambda d: datetime.strptime(d, '%Y-%m-%d'),\n",
    "                    default=pd.Timestamp.max.to_pydatetime())\n",
    "parser.add_argument('--SST', action='store_true', default=False, \n",
    "                    help='time series of sea surface temperature (in C) from the top 20m')\n",
    "parser.add_argument('--fluorescence', action='store_true', default=False, \n",
    "                    help='time series of fluorescence at 1m depth')\n",
    "parser.add_argument('--air-temp', action='store_true', default=False, \n",
    "                    help='time series of atmospheric temperature (in C), 3m above sea level')\n",
    "parser.add_argument('--windspeed', action='store_true', default=False, \n",
    "                    help='time series of wind velocity (in m/s), 3m above sea level')\n",
    "parser.add_argument('--wind-direction', action='store_true', default=False, \n",
    "                    help='time series of wind direction, measured in degrees')\n",
    "parser.add_argument('--pressure', action='store_true', default=False, \n",
    "                    help='time series of atmospheric pressure (in mb), 3m above sea level')\n",
    "parser.add_argument('--humidity', action='store_true', default=False, \n",
    "                    help='time series of relative humidity (RH percent), 3m above sea level')\n",
    "parser.add_argument('--dewpoint', action='store_true', default=False, \n",
    "                    help='time series of atmospheric dewpoint (in C), 3m above sea level')\n",
    "args = parser.parse_args()"
   ]
  },
  {
   "cell_type": "code",
   "execution_count": 6,
   "metadata": {},
   "outputs": [],
   "source": [
    "## Data import from THEMO\n",
    "## Weather station, Sea Surface Temperature (SST), and chlorophyll fluorescence.\n",
    "\n",
    "weather = pd.read_csv('/Users/regina/UH_projects/EM_TimeSeries/data/themo_weather0717-0618.csv', \n",
    "                      parse_dates=[[0,1]], index_col=0)\n",
    "weather = weather.drop(columns=['threshold', 'const_err'])\n",
    "weather = weather.rename(columns={'temperature':'air_temperature'})\n",
    "weather_avg = weather.resample('D').mean()\n",
    "\n",
    "SST = pd.read_csv('/Users/regina/UH_projects/EM_TimeSeries/data/themo_sst0717-0618.csv',\n",
    "                   parse_dates=[[0, 1]], index_col=0)\n",
    "SST = SST.drop(columns=['s9_id', 'threshold', 'const_err'])\n",
    "SST = SST[(SST.temperature < 31) & (SST.temperature > 20)]\n",
    "SST = SST[SST.depth < 20].rename(columns={\"temperature\": \"sst_upper_zone\"})\n",
    "SST = SST.drop(columns=['depth'])\n",
    "SST_avg = SST.sst_upper_zone.resample('D').mean()\n"
   ]
  },
  {
   "cell_type": "code",
   "execution_count": 9,
   "metadata": {},
   "outputs": [],
   "source": [
    "chl = pd.read_csv('/Users/regina/UH_projects/EM_TimeSeries/data/themo_chl0717-0618.csv', \n",
    "                 parse_dates=[[0,1]], index_col=0)\n",
    "chl = chl.drop(columns=['turbidity_units', 'threshold', 'const_err'])\n",
    "chl = chl[(chl.chlorophyll_concentration < 1.0) & (chl.chlorophyll_concentration > 0)]\n",
    "\n",
    "\n",
    "sets = [weather, SST, chl]\n",
    "pd.concat(sets, axis=0, join='outer', join_axes=None, ignore_index=False,\n",
    "          keys=None, levels=None, names=None, verify_integrity=False,\n",
    "          copy=True, sort=False).to_csv('/Users/regina/UH_projects/EM_TimeSeries/data/themo_full0717-0618.csv')\n",
    "\n",
    "ds = pd.read_csv('/Users/regina/UH_projects/EM_TimeSeries/data/themo_full0717-0618.csv', parse_dates=[0])\n",
    "ds.index = pd.to_datetime(ds.index, unit='s')\n",
    "\n",
    "#ds['d_stamp_t_stamp'] = pd.to_datetime(ds['d_stamp_t_stamp']).apply(lambda x: x.replace(minute=0, second=0))\n",
    "#ds['d_stamp_t_stamp'].dt.date"
   ]
  },
  {
   "cell_type": "code",
   "execution_count": 10,
   "metadata": {},
   "outputs": [
    {
     "ename": "NameError",
     "evalue": "name 'args' is not defined",
     "output_type": "error",
     "traceback": [
      "\u001b[0;31m---------------------------------------------------------------------------\u001b[0m",
      "\u001b[0;31mNameError\u001b[0m                                 Traceback (most recent call last)",
      "\u001b[0;32m<ipython-input-10-004e85930186>\u001b[0m in \u001b[0;36m<module>\u001b[0;34m\u001b[0m\n\u001b[1;32m      3\u001b[0m \u001b[0;34m\u001b[0m\u001b[0m\n\u001b[1;32m      4\u001b[0m \u001b[0;31m#ds = pd.read_csv(args.file, parse_dates=[0])#, index_col=0)\u001b[0m\u001b[0;34m\u001b[0m\u001b[0;34m\u001b[0m\u001b[0;34m\u001b[0m\u001b[0m\n\u001b[0;32m----> 5\u001b[0;31m \u001b[0mds\u001b[0m \u001b[0;34m=\u001b[0m \u001b[0mds\u001b[0m\u001b[0;34m[\u001b[0m\u001b[0;34m(\u001b[0m\u001b[0mds\u001b[0m\u001b[0;34m.\u001b[0m\u001b[0md_stamp_t_stamp\u001b[0m \u001b[0;34m>=\u001b[0m \u001b[0margs\u001b[0m\u001b[0;34m.\u001b[0m\u001b[0mstart_date\u001b[0m\u001b[0;34m)\u001b[0m\u001b[0;34m]\u001b[0m\u001b[0;34m\u001b[0m\u001b[0;34m\u001b[0m\u001b[0m\n\u001b[0m\u001b[1;32m      6\u001b[0m \u001b[0mds\u001b[0m \u001b[0;34m=\u001b[0m \u001b[0mds\u001b[0m\u001b[0;34m[\u001b[0m\u001b[0;34m(\u001b[0m\u001b[0mds\u001b[0m\u001b[0;34m.\u001b[0m\u001b[0md_stamp_t_stamp\u001b[0m \u001b[0;34m<=\u001b[0m \u001b[0margs\u001b[0m\u001b[0;34m.\u001b[0m\u001b[0mend_date\u001b[0m\u001b[0;34m)\u001b[0m\u001b[0;34m]\u001b[0m\u001b[0;34m\u001b[0m\u001b[0;34m\u001b[0m\u001b[0m\n",
      "\u001b[0;31mNameError\u001b[0m: name 'args' is not defined"
     ]
    }
   ],
   "source": [
    "# =============================================================================\n",
    "# NEED TO FIGURE OUT HOW TO SORT WITHIN THE CSV BY DATES \n",
    "\n",
    "#ds = pd.read_csv(args.file, parse_dates=[0])#, index_col=0)\n",
    "ds = ds[(ds.d_stamp_t_stamp >= args.start_date)]\n",
    "ds = ds[(ds.d_stamp_t_stamp <= args.end_date)]"
   ]
  },
  {
   "cell_type": "code",
   "execution_count": null,
   "metadata": {},
   "outputs": [],
   "source": [
    "if args.SST:\n",
    "    SST_plot = plt.figure(figsize=(14,10))\n",
    "    SST_plot.suptitle('Sea Surface Temperature', fontsize=20)\n",
    "    SST_fig = SST_plot.add_subplot(111)\n",
    "    SST_fig.plot(ds['sst_upper_zone'], color='turquoise', alpha=0.4)\n",
    "    SST_fig.plot(ds['sst_upper_zone'].resample('D').mean(), color='darkblue', marker='o', \n",
    "                 markersize=5)\n",
    "    SST_fig.set_ylabel('SST in C', color='darkblue', fontsize=15)\n",
    "    SST_fig.legend(['Raw SST Data', 'SST Daily Average'], fontsize=15, loc=0)\n",
    "    \n",
    "if args.fluorescence:\n",
    "    chl_plot = plt.figure(figsize=(14,10))\n",
    "    chl_plot.suptitle('Chlorophyll', fontsize=20)\n",
    "    chl_fig = chl_plot.add_subplot(111)\n",
    "    chl_fig.plot(ds['chlorophyll_concentration'], alpha=0.4)\n",
    "    chl_fig.plot(ds['chlorophyll_concentration'].resample('D').mean(), color='darkorange', \n",
    "                 marker='o', markersize=5)\n",
    "    chl_fig.set_xlabel(\"Date\"),chl_fig.set_ylabel(\"Chlorophyll Concentration in uG/L\") \n",
    "    chl_fig.legend(['Raw chlorophyll data', 'Chlorophyll daily average'], fontsize=15, loc=0)\n",
    " \n",
    "    \n",
    "if args.air_temp:\n",
    "    air_plot = plt.figure(figsize=(14,10))\n",
    "    air_plot.suptitle('Air Temperature', fontsize=20)\n",
    "    air_fig = air_plot.add_subplot(111)\n",
    "    air_fig.plot(ds['air_temperature'], color='blue', alpha=0.4)\n",
    "    air_fig.plot(ds['air_temperature'].resample('D').mean(), color='darkblue', \n",
    "                 marker='o', markersize=5)\n",
    "    air_fig.set_xlabel(\"Date\"),air_fig.set_ylabel(\"Air Temperature in C\") \n",
    "    air_fig.legend(['Raw air temperature data', 'Air temperature daily average'], fontsize=15, loc=0)\n",
    "\n",
    "\n",
    "if args.windspeed:\n",
    "    windspeed_plot = plt.figure(figsize=(14,10))\n",
    "    windspeed_plot.suptitle('Wind Speed', fontsize=20)\n",
    "    windspeed_fig = windspeed_plot.add_subplot(111)\n",
    "    windspeed_fig.plot(ds['wind_speed'], color='darkblue', alpha=0.5)\n",
    "    windspeed_fig.set_xlabel(\"Date\"),chl_fig.set_ylabel(\"Wind Speed in m/s\") \n",
    "    windspeed_fig.legend(['Raw wind speed data', 'Wind speed daily average'], fontsize=15, loc=0)\n",
    "\n",
    "\n",
    "if args.wind_direction:\n",
    "    winddirection_plot = plt.figure(figsize=(14,10))\n",
    "    winddirection_plot.suptitle('Wind Direction', fontsize=20)\n",
    "    winddirection_fig = winddirection_plot.add_subplot(111)\n",
    "    winddirection_fig.plot(ds['wind_direction'], color='magenta', alpha=0.5)\n",
    "    winddirection_fig.set_xlabel(\"Date\"),chl_fig.set_ylabel(\"Wind direction in degrees\") \n",
    "    winddirection_fig.legend(['Raw wind direction data', 'Wind direction daily average'], fontsize=15, loc=0)\n",
    "\n",
    "if args.pressure:\n",
    "    pressure_plot = plt.figure(figsize=(14,10))\n",
    "    pressure_plot.suptitle('Pressure', fontsize=20)\n",
    "    pressure_fig = pressure_plot.add_subplot(111)\n",
    "    pressure_fig.plot(ds['pressure'], color='palegreen', alpha=0.5)\n",
    "    pressure_fig.set_xlabel(\"Date\"), chl_fig.set_ylabel(\"Pressure in MB\") \n",
    "    pressure_fig.legend(['Raw pressure data', 'Pressure daily average'], fontsize=15, loc=0)\n",
    "    \n",
    "if args.humidity:\n",
    "    humidity_plot = plt.figure(figsize=(14,10))\n",
    "    humidity_plot.suptitle('Humidity', fontsize=20)\n",
    "    humidity_fig = humidity_plot.add_subplot(111)\n",
    "    humidity_fig.plot(ds['humidity'], color='darkolivegreen', alpha=0.5)\n",
    "    humidity_fig.set_xlabel(\"Date\"), chl_fig.set_ylabel(\"Humidity in MB\") \n",
    "    humidity_fig.legend(['Raw humidity data', 'Humidity average'], fontsize=15, loc=0)\n",
    "\n",
    "if args.dewpoint:\n",
    "    dewpoint_plot = plt.figure(figsize=(14,10))\n",
    "    dewpoint_plot.suptitle('Dewpoint', fontsize=20)\n",
    "    dewpoint_fig = dewpoint_plot.add_subplot(111)\n",
    "    dewpoint_fig.plot(ds['dewpoint'], color='red', alpha=0.5)\n",
    "    dewpoint_fig.set_xlabel(\"Date\"), chl_fig.set_ylabel(\"Dewpoint in C\") \n",
    "    dewpoint_fig.legend(['Raw dewpoint data', 'Dewpoint average'], fontsize=15, loc=0)    \n",
    "\n",
    "\n",
    "plt.show()"
   ]
  }
 ],
 "metadata": {
  "kernelspec": {
   "display_name": "Python 3",
   "language": "python",
   "name": "python3"
  },
  "language_info": {
   "codemirror_mode": {
    "name": "ipython",
    "version": 3
   },
   "file_extension": ".py",
   "mimetype": "text/x-python",
   "name": "python",
   "nbconvert_exporter": "python",
   "pygments_lexer": "ipython3",
   "version": "3.7.3"
  }
 },
 "nbformat": 4,
 "nbformat_minor": 4
}
